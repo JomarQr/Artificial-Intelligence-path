{
  "nbformat": 4,
  "nbformat_minor": 0,
  "metadata": {
    "colab": {
      "provenance": [],
      "authorship_tag": "ABX9TyP/x9Zlnlm+GGo1ZjunmTrJ",
      "include_colab_link": true
    },
    "kernelspec": {
      "name": "python3",
      "display_name": "Python 3"
    },
    "language_info": {
      "name": "python"
    }
  },
  "cells": [
    {
      "cell_type": "markdown",
      "metadata": {
        "id": "view-in-github",
        "colab_type": "text"
      },
      "source": [
        "<a href=\"https://colab.research.google.com/github/JomarQr/Artificial-Intelligence-path/blob/main/Logistic_Regression.ipynb\" target=\"_parent\"><img src=\"https://colab.research.google.com/assets/colab-badge.svg\" alt=\"Open In Colab\"/></a>"
      ]
    },
    {
      "cell_type": "code",
      "execution_count": 2,
      "metadata": {
        "id": "WhFMrbZ6NXM5"
      },
      "outputs": [],
      "source": [
        "%matplotlib inline\n",
        "import matplotlib.pyplot as plt\n",
        "import numpy as np\n",
        "import torch"
      ]
    },
    {
      "cell_type": "code",
      "source": [
        "#from google.colab import files\n",
        "#uploaded = files.upload()"
      ],
      "metadata": {
        "id": "lPTtmL7LN1hW"
      },
      "execution_count": 3,
      "outputs": []
    },
    {
      "cell_type": "code",
      "source": [
        "from google.colab import files\n",
        "uoploaded = files.upload()"
      ],
      "metadata": {
        "colab": {
          "base_uri": "https://localhost:8080/",
          "height": 74
        },
        "id": "BSW9ceMFN3Qe",
        "outputId": "aab69804-9406-4803-8db5-cea0f99c5fc5"
      },
      "execution_count": 4,
      "outputs": [
        {
          "output_type": "display_data",
          "data": {
            "text/plain": [
              "<IPython.core.display.HTML object>"
            ],
            "text/html": [
              "\n",
              "     <input type=\"file\" id=\"files-7d4d0189-9a4c-4825-916e-a67248650d99\" name=\"files[]\" multiple disabled\n",
              "        style=\"border:none\" />\n",
              "     <output id=\"result-7d4d0189-9a4c-4825-916e-a67248650d99\">\n",
              "      Upload widget is only available when the cell has been executed in the\n",
              "      current browser session. Please rerun this cell to enable.\n",
              "      </output>\n",
              "      <script>// Copyright 2017 Google LLC\n",
              "//\n",
              "// Licensed under the Apache License, Version 2.0 (the \"License\");\n",
              "// you may not use this file except in compliance with the License.\n",
              "// You may obtain a copy of the License at\n",
              "//\n",
              "//      http://www.apache.org/licenses/LICENSE-2.0\n",
              "//\n",
              "// Unless required by applicable law or agreed to in writing, software\n",
              "// distributed under the License is distributed on an \"AS IS\" BASIS,\n",
              "// WITHOUT WARRANTIES OR CONDITIONS OF ANY KIND, either express or implied.\n",
              "// See the License for the specific language governing permissions and\n",
              "// limitations under the License.\n",
              "\n",
              "/**\n",
              " * @fileoverview Helpers for google.colab Python module.\n",
              " */\n",
              "(function(scope) {\n",
              "function span(text, styleAttributes = {}) {\n",
              "  const element = document.createElement('span');\n",
              "  element.textContent = text;\n",
              "  for (const key of Object.keys(styleAttributes)) {\n",
              "    element.style[key] = styleAttributes[key];\n",
              "  }\n",
              "  return element;\n",
              "}\n",
              "\n",
              "// Max number of bytes which will be uploaded at a time.\n",
              "const MAX_PAYLOAD_SIZE = 100 * 1024;\n",
              "\n",
              "function _uploadFiles(inputId, outputId) {\n",
              "  const steps = uploadFilesStep(inputId, outputId);\n",
              "  const outputElement = document.getElementById(outputId);\n",
              "  // Cache steps on the outputElement to make it available for the next call\n",
              "  // to uploadFilesContinue from Python.\n",
              "  outputElement.steps = steps;\n",
              "\n",
              "  return _uploadFilesContinue(outputId);\n",
              "}\n",
              "\n",
              "// This is roughly an async generator (not supported in the browser yet),\n",
              "// where there are multiple asynchronous steps and the Python side is going\n",
              "// to poll for completion of each step.\n",
              "// This uses a Promise to block the python side on completion of each step,\n",
              "// then passes the result of the previous step as the input to the next step.\n",
              "function _uploadFilesContinue(outputId) {\n",
              "  const outputElement = document.getElementById(outputId);\n",
              "  const steps = outputElement.steps;\n",
              "\n",
              "  const next = steps.next(outputElement.lastPromiseValue);\n",
              "  return Promise.resolve(next.value.promise).then((value) => {\n",
              "    // Cache the last promise value to make it available to the next\n",
              "    // step of the generator.\n",
              "    outputElement.lastPromiseValue = value;\n",
              "    return next.value.response;\n",
              "  });\n",
              "}\n",
              "\n",
              "/**\n",
              " * Generator function which is called between each async step of the upload\n",
              " * process.\n",
              " * @param {string} inputId Element ID of the input file picker element.\n",
              " * @param {string} outputId Element ID of the output display.\n",
              " * @return {!Iterable<!Object>} Iterable of next steps.\n",
              " */\n",
              "function* uploadFilesStep(inputId, outputId) {\n",
              "  const inputElement = document.getElementById(inputId);\n",
              "  inputElement.disabled = false;\n",
              "\n",
              "  const outputElement = document.getElementById(outputId);\n",
              "  outputElement.innerHTML = '';\n",
              "\n",
              "  const pickedPromise = new Promise((resolve) => {\n",
              "    inputElement.addEventListener('change', (e) => {\n",
              "      resolve(e.target.files);\n",
              "    });\n",
              "  });\n",
              "\n",
              "  const cancel = document.createElement('button');\n",
              "  inputElement.parentElement.appendChild(cancel);\n",
              "  cancel.textContent = 'Cancel upload';\n",
              "  const cancelPromise = new Promise((resolve) => {\n",
              "    cancel.onclick = () => {\n",
              "      resolve(null);\n",
              "    };\n",
              "  });\n",
              "\n",
              "  // Wait for the user to pick the files.\n",
              "  const files = yield {\n",
              "    promise: Promise.race([pickedPromise, cancelPromise]),\n",
              "    response: {\n",
              "      action: 'starting',\n",
              "    }\n",
              "  };\n",
              "\n",
              "  cancel.remove();\n",
              "\n",
              "  // Disable the input element since further picks are not allowed.\n",
              "  inputElement.disabled = true;\n",
              "\n",
              "  if (!files) {\n",
              "    return {\n",
              "      response: {\n",
              "        action: 'complete',\n",
              "      }\n",
              "    };\n",
              "  }\n",
              "\n",
              "  for (const file of files) {\n",
              "    const li = document.createElement('li');\n",
              "    li.append(span(file.name, {fontWeight: 'bold'}));\n",
              "    li.append(span(\n",
              "        `(${file.type || 'n/a'}) - ${file.size} bytes, ` +\n",
              "        `last modified: ${\n",
              "            file.lastModifiedDate ? file.lastModifiedDate.toLocaleDateString() :\n",
              "                                    'n/a'} - `));\n",
              "    const percent = span('0% done');\n",
              "    li.appendChild(percent);\n",
              "\n",
              "    outputElement.appendChild(li);\n",
              "\n",
              "    const fileDataPromise = new Promise((resolve) => {\n",
              "      const reader = new FileReader();\n",
              "      reader.onload = (e) => {\n",
              "        resolve(e.target.result);\n",
              "      };\n",
              "      reader.readAsArrayBuffer(file);\n",
              "    });\n",
              "    // Wait for the data to be ready.\n",
              "    let fileData = yield {\n",
              "      promise: fileDataPromise,\n",
              "      response: {\n",
              "        action: 'continue',\n",
              "      }\n",
              "    };\n",
              "\n",
              "    // Use a chunked sending to avoid message size limits. See b/62115660.\n",
              "    let position = 0;\n",
              "    do {\n",
              "      const length = Math.min(fileData.byteLength - position, MAX_PAYLOAD_SIZE);\n",
              "      const chunk = new Uint8Array(fileData, position, length);\n",
              "      position += length;\n",
              "\n",
              "      const base64 = btoa(String.fromCharCode.apply(null, chunk));\n",
              "      yield {\n",
              "        response: {\n",
              "          action: 'append',\n",
              "          file: file.name,\n",
              "          data: base64,\n",
              "        },\n",
              "      };\n",
              "\n",
              "      let percentDone = fileData.byteLength === 0 ?\n",
              "          100 :\n",
              "          Math.round((position / fileData.byteLength) * 100);\n",
              "      percent.textContent = `${percentDone}% done`;\n",
              "\n",
              "    } while (position < fileData.byteLength);\n",
              "  }\n",
              "\n",
              "  // All done.\n",
              "  yield {\n",
              "    response: {\n",
              "      action: 'complete',\n",
              "    }\n",
              "  };\n",
              "}\n",
              "\n",
              "scope.google = scope.google || {};\n",
              "scope.google.colab = scope.google.colab || {};\n",
              "scope.google.colab._files = {\n",
              "  _uploadFiles,\n",
              "  _uploadFilesContinue,\n",
              "};\n",
              "})(self);\n",
              "</script> "
            ]
          },
          "metadata": {}
        },
        {
          "output_type": "stream",
          "name": "stdout",
          "text": [
            "Saving perceptron_toydata.txt to perceptron_toydata.txt\n"
          ]
        }
      ]
    },
    {
      "cell_type": "code",
      "source": [
        "path = \"perceptron_toydata.txt\""
      ],
      "metadata": {
        "id": "0Ct3IWOoN-5r"
      },
      "execution_count": 5,
      "outputs": []
    },
    {
      "cell_type": "code",
      "source": [
        "data = np.genfromtxt(path, delimiter = \"\\t\")"
      ],
      "metadata": {
        "id": "DOdZfjdzOI3k"
      },
      "execution_count": 6,
      "outputs": []
    },
    {
      "cell_type": "markdown",
      "source": [
        "**np.genfromtxt(...)** - This function reads data from a text file, especially structured data like CSV or TSV (tab-separated values)\n",
        "\n",
        "**delimiter=\"\\t\"** -  columns in the file are separated by tabs, not commas or spaces. (\\t is the tab character.)"
      ],
      "metadata": {
        "id": "dSSD9dL1O5Zt"
      }
    },
    {
      "cell_type": "code",
      "source": [
        "x = data[:, :2].astype(np.float32) #input features\n",
        "y = data[:, 2].astype(np.int64) # class labels"
      ],
      "metadata": {
        "id": "bH-6YZZ1PJ-e"
      },
      "execution_count": 7,
      "outputs": []
    },
    {
      "cell_type": "markdown",
      "source": [
        "**data[:, :2]** - selects all rows **(:)** and the first two columns **(:2)** → likely your input features.\n",
        "**.astype(np.float32)** - converts the values to 32-bit floating point numbers (standard format for most ML models).\n",
        "\n",
        "**y = data[:, 2]** - This selects the third column (index 2) and converts it to 64-bit integers — perfect for classification labels (like 0s and 1s)."
      ],
      "metadata": {
        "id": "vBeWh63MPfyC"
      }
    },
    {
      "cell_type": "code",
      "source": [],
      "metadata": {
        "id": "56TodCA3Rk1y"
      },
      "execution_count": 7,
      "outputs": []
    },
    {
      "cell_type": "code",
      "source": [
        "np.random.seed(123)"
      ],
      "metadata": {
        "id": "48FS-2nrRXcI"
      },
      "execution_count": 8,
      "outputs": []
    },
    {
      "cell_type": "markdown",
      "source": [
        "So this line is just making sure everything that follows (like random splits or weight initializations) is predictable."
      ],
      "metadata": {
        "id": "NsPOSCT0RkX-"
      }
    },
    {
      "cell_type": "code",
      "source": [
        "idx = np.arange(y.shape[0])\n",
        "np.random.shuffle(idx)"
      ],
      "metadata": {
        "id": "QbrN7dHJRlWX"
      },
      "execution_count": 9,
      "outputs": []
    },
    {
      "cell_type": "markdown",
      "source": [
        "**np.arange(...)** creates an array of indices from 0 to N-1.\n",
        "**y.shape[0]** gives you the number of data points (number of rows).\n",
        "\n",
        "**np.random.shuffle(idx)** - This shuffles the index array in place."
      ],
      "metadata": {
        "id": "Kdu1XgksR2lV"
      }
    },
    {
      "cell_type": "code",
      "source": [
        "X_test, y_test = x[idx[:25]], y[idx[:25]]\n",
        "X_train, y_train = x[idx[25:]], y[idx[25:]]"
      ],
      "metadata": {
        "id": "KARnDcBmR1wG"
      },
      "execution_count": 10,
      "outputs": []
    },
    {
      "cell_type": "markdown",
      "source": [
        "**X_test and y_test:**\n",
        "The first 25 samples — used to evaluate how well your model performs on unseen data.\n",
        "**X_train and y_train:**\n",
        "The remaining samples — used to train the model."
      ],
      "metadata": {
        "id": "G8Or9OfTSaa_"
      }
    },
    {
      "cell_type": "code",
      "source": [
        "#feature normalization (standardization)\n",
        "mu, std = np.mean(X_train, axis=0), np.std(X_train, axis=0)\n",
        "X_train, X_test = (X_train - mu) / std, (X_test - mu) / std"
      ],
      "metadata": {
        "id": "_dPFfe_bSiYF"
      },
      "execution_count": 11,
      "outputs": []
    },
    {
      "cell_type": "markdown",
      "source": [
        "**np.mean(X_train, axis=0)** -  computes the mean of each feature (column) across all training samples.\n",
        "**np.std(X_train, axis=0)** - computes the standard deviation of each feature.\n",
        "\n",
        "This gives you two vectors: one for the mean (mu) and one for the std dev (std) — one value per feature."
      ],
      "metadata": {
        "id": "3fHyehAgTKrg"
      }
    },
    {
      "cell_type": "markdown",
      "source": [
        "**X_train, X_test = (X_train - mu) / std, (X_test - mu) / std** - This standardizes each feature so that:\n",
        "Mean becomes 0, Standard deviation becomes 1"
      ],
      "metadata": {
        "id": "EaGMRcbGTZfb"
      }
    },
    {
      "cell_type": "code",
      "source": [
        "fig, ax = plt.subplots(1, 2, figsize=(7, 2.5))\n",
        "ax[0].scatter(X_train[y_train == 1, 0], X_train[y_train == 1,1])\n",
        "ax[0].scatter(X_train[y_train == 0, 0], X_train[y_train == 0,1])\n",
        "ax[1].scatter(X_test[y_test == 1, 0], X_test[y_test == 1,1])\n",
        "ax[1].scatter(X_test[y_test == 0, 0], X_test[y_test == 0,1])\n",
        "plt.xlim([x[:, 0].min()-0.5, x[:, 0].max()+0.5])\n",
        "plt.ylim([x[:, 1].min()-0.5, x[:, 1].max()+0.5])\n",
        "plt.show()"
      ],
      "metadata": {
        "colab": {
          "base_uri": "https://localhost:8080/",
          "height": 253
        },
        "id": "uhuGxUz3TxJG",
        "outputId": "3227c34a-15ec-45f5-fda3-3db1f0919a00"
      },
      "execution_count": 12,
      "outputs": [
        {
          "output_type": "display_data",
          "data": {
            "text/plain": [
              "<Figure size 700x250 with 2 Axes>"
            ],
            "image/png": "[encoded data removed]"
          },
          "metadata": {}
        }
      ]
    },
    {
      "cell_type": "markdown",
      "source": [
        "Left subplot = training data\n",
        "\n",
        "Right subplot = test data\n",
        "\n",
        "The two colors represent two classes (e.g., 0 and 1)\n",
        "\n",
        " The two classes are well-separated, which is great for classification"
      ],
      "metadata": {
        "id": "HTdE-1NDWOVJ"
      }
    },
    {
      "cell_type": "code",
      "source": [
        "device = torch.device(\"cuda:0\" if torch.cuda.is_available() else \"cpu\")"
      ],
      "metadata": {
        "id": "BLCzJxX3WOHo"
      },
      "execution_count": 13,
      "outputs": []
    },
    {
      "cell_type": "markdown",
      "source": [
        "Define a model\n",
        "\n"
      ],
      "metadata": {
        "id": "_PiwUYcBW6Gu"
      }
    },
    {
      "cell_type": "code",
      "source": [
        "def sigmoid(z):\n",
        "  return 1. / (1. + torch.exp(-z)) #1. because we would like that the result would be aplicable for vectors"
      ],
      "metadata": {
        "id": "H9uaWFgDY9xu"
      },
      "execution_count": 14,
      "outputs": []
    },
    {
      "cell_type": "code",
      "source": [
        "class LogisticRegression():\n",
        "  def __init__(self, num_features):\n",
        "    self.num_features = num_features\n",
        "    self.weights = torch.zeros(1, num_features, dtype=torch.float32, device=device)\n",
        "    self.bias =torch.zeros(1, dtype=torch.float32, device=device)\n",
        "\n",
        "  def forward(self, x):\n",
        "    linear = torch.add(torch.mm(x, self.weights.t()), self.bias).view(-1)\n",
        "    probabilities = sigmoid(linear)\n",
        "    return probabilities\n",
        "\n",
        "  def backward(self, x, y, probabilities):\n",
        "    grad_loss_wrt_z = probabilities.view(-1) - y\n",
        "    grad_loss_wrt_w = torch.mm(x.t(), grad_loss_wrt_z.view(-1,1)).t()\n",
        "    grad_loss_wrt_b = torch.sum(grad_loss_wrt_z)\n",
        "    return grad_loss_wrt_w, grad_loss_wrt_b\n",
        "\n",
        "  def predict_labels(self, x):\n",
        "    probabilities = self.forward(x)\n",
        "    labels = torch.where(probabilities >=0.5, 1, 0)\n",
        "    return labels\n",
        "\n",
        "  def evaluate(self, x, y):\n",
        "    labels = self.predict_labels(x).float()\n",
        "    accuracy = torch.sum(labels.view(-1) == y.float()).item()/y.size(0)\n",
        "    return accuracy\n",
        "\n",
        "  def _logit_cost(self, y, probability):\n",
        "    term1 = torch.mm(-y.view(1, -1), torch.log(probability.view(-1, 1)))\n",
        "    term2 = - torch.mm((1 - y).view(1, -1), torch.log(1 - probability.view(-1, 1)))\n",
        "    return term1 + term2\n",
        "\n",
        "  def train(self, x, y, num_epochs, learning_rate=0.01):\n",
        "    epoch_cost=[]\n",
        "    for e in range(num_epochs):\n",
        "      #Compute outputs\n",
        "      probabilities = self.forward(x)\n",
        "\n",
        "      #Compute gradients\n",
        "      grad_w, grad_b =self.backward(x, y, probabilities)\n",
        "\n",
        "      #Update weights\n",
        "      self.weights -= learning_rate* grad_w\n",
        "      self.bias -= learning_rate*grad_b\n",
        "\n",
        "      #Log the results\n",
        "      cost = self._logit_cost(y, probabilities)/x.size(0)\n",
        "      print('Epoch: %03d'%(e+1), end=\"\")\n",
        "      print('| Train ACC: %.3f' % self.evaluate(x,y), end=\"\")\n",
        "      print('| Cost: %.3f' % cost)\n",
        "      epoch_cost.append(cost)\n",
        "    return epoch_cost\n"
      ],
      "metadata": {
        "id": "sYZw8Mc-W4Hm"
      },
      "execution_count": 16,
      "outputs": []
    },
    {
      "cell_type": "markdown",
      "source": [
        "Training the model"
      ],
      "metadata": {
        "id": "0tyKRzX4yHJ_"
      }
    },
    {
      "cell_type": "code",
      "source": [
        "X_train_tensor = torch.tensor(X_train, dtype=torch.float32, device=device)\n",
        "y_train_tensor = torch.tensor(y_train, dtype=torch.float32, device=device)"
      ],
      "metadata": {
        "id": "44qpB47OyJXp"
      },
      "execution_count": 17,
      "outputs": []
    },
    {
      "cell_type": "code",
      "source": [
        "model = LogisticRegression(num_features=2)\n",
        "epoch_cost = model.train(X_train_tensor, y_train_tensor, num_epochs=40, learning_rate=0.1)"
      ],
      "metadata": {
        "colab": {
          "base_uri": "https://localhost:8080/"
        },
        "id": "VSSQ6Vk6yL9s",
        "outputId": "b1d020f6-2957-48a4-f452-a12d93bb4e98"
      },
      "execution_count": 18,
      "outputs": [
        {
          "output_type": "stream",
          "name": "stdout",
          "text": [
            "Epoch: 001| Train ACC: 0.973| Cost: 0.693\n",
            "Epoch: 002| Train ACC: 0.973| Cost: 0.055\n",
            "Epoch: 003| Train ACC: 0.973| Cost: 0.053\n",
            "Epoch: 004| Train ACC: 0.973| Cost: 0.051\n",
            "Epoch: 005| Train ACC: 0.973| Cost: 0.049\n",
            "Epoch: 006| Train ACC: 0.973| Cost: 0.048\n",
            "Epoch: 007| Train ACC: 0.973| Cost: 0.047\n",
            "Epoch: 008| Train ACC: 0.973| Cost: 0.046\n",
            "Epoch: 009| Train ACC: 0.973| Cost: 0.045\n",
            "Epoch: 010| Train ACC: 0.987| Cost: 0.044\n",
            "Epoch: 011| Train ACC: 0.987| Cost: 0.043\n",
            "Epoch: 012| Train ACC: 0.987| Cost: 0.042\n",
            "Epoch: 013| Train ACC: 0.987| Cost: 0.041\n",
            "Epoch: 014| Train ACC: 0.987| Cost: 0.041\n",
            "Epoch: 015| Train ACC: 0.987| Cost: 0.040\n",
            "Epoch: 016| Train ACC: 0.987| Cost: 0.039\n",
            "Epoch: 017| Train ACC: 1.000| Cost: 0.039\n",
            "Epoch: 018| Train ACC: 1.000| Cost: 0.038\n",
            "Epoch: 019| Train ACC: 1.000| Cost: 0.038\n",
            "Epoch: 020| Train ACC: 1.000| Cost: 0.037\n",
            "Epoch: 021| Train ACC: 1.000| Cost: 0.036\n",
            "Epoch: 022| Train ACC: 1.000| Cost: 0.036\n",
            "Epoch: 023| Train ACC: 1.000| Cost: 0.036\n",
            "Epoch: 024| Train ACC: 1.000| Cost: 0.035\n",
            "Epoch: 025| Train ACC: 1.000| Cost: 0.035\n",
            "Epoch: 026| Train ACC: 1.000| Cost: 0.034\n",
            "Epoch: 027| Train ACC: 1.000| Cost: 0.034\n",
            "Epoch: 028| Train ACC: 1.000| Cost: 0.033\n",
            "Epoch: 029| Train ACC: 1.000| Cost: 0.033\n",
            "Epoch: 030| Train ACC: 1.000| Cost: 0.033\n",
            "Epoch: 031| Train ACC: 1.000| Cost: 0.032\n",
            "Epoch: 032| Train ACC: 1.000| Cost: 0.032\n",
            "Epoch: 033| Train ACC: 1.000| Cost: 0.032\n",
            "Epoch: 034| Train ACC: 1.000| Cost: 0.031\n",
            "Epoch: 035| Train ACC: 1.000| Cost: 0.031\n",
            "Epoch: 036| Train ACC: 1.000| Cost: 0.031\n",
            "Epoch: 037| Train ACC: 1.000| Cost: 0.030\n",
            "Epoch: 038| Train ACC: 1.000| Cost: 0.030\n",
            "Epoch: 039| Train ACC: 1.000| Cost: 0.030\n",
            "Epoch: 040| Train ACC: 1.000| Cost: 0.030\n"
          ]
        }
      ]
    },
    {
      "cell_type": "markdown",
      "source": [],
      "metadata": {
        "id": "fNS2SCutUfQy"
      }
    },
    {
      "cell_type": "code",
      "source": [
        "epoch_cost2 = [cost.item() for cost in epoch_cost]"
      ],
      "metadata": {
        "id": "RWiyNFxqyOng"
      },
      "execution_count": 19,
      "outputs": []
    },
    {
      "cell_type": "code",
      "source": [
        "plt.plot(epoch_cost2)\n",
        "plt.xlabel('Epoch')\n",
        "plt.ylabel('Negative Log Likelihood Loss')\n",
        "plt.show()"
      ],
      "metadata": {
        "colab": {
          "base_uri": "https://localhost:8080/",
          "height": 449
        },
        "id": "c4425gD5yQp8",
        "outputId": "fd7f535d-3c2a-44ae-d17a-ea0f8208007d"
      },
      "execution_count": 20,
      "outputs": [
        {
          "output_type": "display_data",
          "data": {
            "text/plain": [
              "<Figure size 640x480 with 1 Axes>"
            ],
            "image/png": "[encoded data removed]"
          },
          "metadata": {}
        }
      ]
    },
    {
      "cell_type": "code",
      "source": [
        "X_test_tensor = torch.tensor(X_test, dtype=torch.float32, device=device)\n",
        "y_test_tensor = torch.tensor(y_test, dtype=torch.float32, device=device)"
      ],
      "metadata": {
        "id": "VR_wpETtySwd"
      },
      "execution_count": 21,
      "outputs": []
    },
    {
      "cell_type": "code",
      "source": [
        "test_accuracy = model.evaluate(X_test_tensor, y_test_tensor)"
      ],
      "metadata": {
        "id": "nU0Mm8VRyUZV"
      },
      "execution_count": 22,
      "outputs": []
    },
    {
      "cell_type": "code",
      "source": [
        "test_accuracy"
      ],
      "metadata": {
        "colab": {
          "base_uri": "https://localhost:8080/"
        },
        "id": "8EVQiOcEyWAH",
        "outputId": "d26fe11b-862a-41a3-86c3-83b6571908bc"
      },
      "execution_count": 23,
      "outputs": [
        {
          "output_type": "execute_result",
          "data": {
            "text/plain": [
              "0.96"
            ]
          },
          "metadata": {},
          "execution_count": 23
        }
      ]
    }
  ]
}